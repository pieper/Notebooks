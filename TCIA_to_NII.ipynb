{
  "nbformat": 4,
  "nbformat_minor": 0,
  "metadata": {
    "colab": {
      "name": "TCIA to NII.ipynb",
      "provenance": [],
      "collapsed_sections": [],
      "machine_shape": "hm",
      "include_colab_link": true
    },
    "kernelspec": {
      "name": "python3",
      "display_name": "Python 3"
    }
  },
  "cells": [
    {
      "cell_type": "markdown",
      "metadata": {
        "id": "view-in-github",
        "colab_type": "text"
      },
      "source": [
        "<a href=\"https://colab.research.google.com/github/pieper/Notebooks/blob/master/TCIA_to_NII.ipynb\" target=\"_parent\"><img src=\"https://colab.research.google.com/assets/colab-badge.svg\" alt=\"Open In Colab\"/></a>"
      ]
    },
    {
      "cell_type": "markdown",
      "metadata": {
        "id": "NBK_-Ei8Jvba"
      },
      "source": [
        "This notebook was updated March, 2021 for IDC-v2.  See github.com/pieper/Notebooks for earlier versions."
      ]
    },
    {
      "cell_type": "code",
      "metadata": {
        "id": "dIXG2lApwIQm",
        "colab": {
          "base_uri": "https://localhost:8080/"
        },
        "outputId": "d26c63d1-5a36-4a0d-8fe2-8515be1a512f"
      },
      "source": [
        "!gcloud auth login\n",
        "!gcloud config set project idc-sandbox-000\n"
      ],
      "execution_count": 1,
      "outputs": [
        {
          "output_type": "stream",
          "text": [
            "Go to the following link in your browser:\n",
            "\n",
            "    https://accounts.google.com/o/oauth2/auth?response_type=code&client_id=32555940559.apps.googleusercontent.com&redirect_uri=urn%3Aietf%3Awg%3Aoauth%3A2.0%3Aoob&scope=openid+https%3A%2F%2Fwww.googleapis.com%2Fauth%2Fuserinfo.email+https%3A%2F%2Fwww.googleapis.com%2Fauth%2Fcloud-platform+https%3A%2F%2Fwww.googleapis.com%2Fauth%2Fappengine.admin+https%3A%2F%2Fwww.googleapis.com%2Fauth%2Fcompute+https%3A%2F%2Fwww.googleapis.com%2Fauth%2Faccounts.reauth&state=cLwP5Ucgbe1et220x8V3Ps81J9hO3s&prompt=consent&access_type=offline&code_challenge=0LTdZOaUMOYIy6dQf814EJvTWoDLsBYg4q268Wc60sQ&code_challenge_method=S256\n",
            "\n",
            "Enter verification code: 4/1AY0e-g6Ny1HIu8pInL8LzbjbuvgV71Rq9yx0nonMA0uL1uXT9CZmEUtwJtw\n",
            "\n",
            "You are now logged in as [pieper@isomics.com].\n",
            "Your current project is [None].  You can change this setting by running:\n",
            "  $ gcloud config set project PROJECT_ID\n",
            "\n",
            "\n",
            "To take a quick anonymous survey, run:\n",
            "  $ gcloud survey\n",
            "\n",
            "Updated property [core/project].\n"
          ],
          "name": "stdout"
        }
      ]
    },
    {
      "cell_type": "markdown",
      "metadata": {
        "id": "AvDOJTrDwNb0"
      },
      "source": [
        "Convert each series into a nifti file"
      ]
    },
    {
      "cell_type": "code",
      "metadata": {
        "id": "zYKxc5OYFxno",
        "colab": {
          "base_uri": "https://localhost:8080/"
        },
        "outputId": "b6a72122-97cc-4a62-9a45-b6658b0df25d"
      },
      "source": [
        "# TODO: make a small lib in a github repo\n",
        "\n",
        "\n",
        "import subprocess\n",
        "\n",
        "def run(cmd):\n",
        "  child = subprocess.run(cmd.split(), \n",
        "                            stdout=subprocess.PIPE,\n",
        "                            stderr=subprocess.PIPE,\n",
        "                            check=True)\n",
        "  return child.stdout.decode().strip()\n",
        "\n",
        "def freshToken():\n",
        "  token = run('gcloud auth print-access-token')\n",
        "  return token\n",
        "\n",
        "def makeBucket(bucket, project=\"idc-sandbox-000\"):\n",
        "  try:\n",
        "    run(f\"gsutil mb -p {project} {bucket}\")\n",
        "    print(f'bucket {bucket} created')\n",
        "  except subprocess.CalledProcessError:\n",
        "    print(f'bucket {bucket} already exists')\n",
        "\n",
        "makeBucket(\"gs://dev-isomics-idc-nii\")"
      ],
      "execution_count": 2,
      "outputs": [
        {
          "output_type": "stream",
          "text": [
            "bucket gs://dev-isomics-idc-nii already exists\n"
          ],
          "name": "stdout"
        }
      ]
    },
    {
      "cell_type": "code",
      "metadata": {
        "id": "vkYdPVnlkp_9",
        "colab": {
          "base_uri": "https://localhost:8080/"
        },
        "outputId": "670818cf-8d9c-4337-dfc3-1cf58528d451"
      },
      "source": [
        "\n",
        "#\n",
        "# create a python script for processing\n",
        "# TODO: this should pulled from a github repo\n",
        "#\n",
        "pythonScript = \"\"\"\n",
        "\n",
        "\n",
        "import dicomweb_client\n",
        "import os\n",
        "import pydicom\n",
        "import random\n",
        "import subprocess\n",
        "import sys\n",
        "import time\n",
        "\n",
        "def run(cmd):\n",
        "  child = subprocess.run(cmd.split(), \n",
        "                            stdout=subprocess.PIPE,\n",
        "                            stderr=subprocess.PIPE,\n",
        "                            check=True)\n",
        "  print(child.stdout.decode().strip())\n",
        "  print(child.stderr.decode().strip())\n",
        "  return child.stdout.decode().strip()\n",
        "\n",
        "def freshToken():\n",
        "    token = run('gcloud auth print-access-token')\n",
        "    return token\n",
        "\n",
        "def freshClient(url):\n",
        "    token = freshToken()\n",
        "    headers = {\n",
        "        \"Authorization\" : \"Bearer %s\" % freshToken()\n",
        "    }\n",
        "    client = dicomweb_client.api.DICOMwebClient(url, headers=headers)\n",
        "    client.set_http_retry_params(retry = True, max_attempts = 20,\n",
        "                                 wait_exponential_multiplier = 2,\n",
        "                                 wait_random_min=100,\n",
        "                                 wait_random_max=5000)\n",
        "    return client\n",
        "\n",
        "def all_studies(client, offset=0, limit=None):\n",
        "  # be more error tolerant here since there could be contention at startup\n",
        "  client.set_http_retry_params(retry = True, max_attempts = 100,\n",
        "                               wait_exponential_multiplier = 2,\n",
        "                               wait_random_min=100,\n",
        "                               wait_random_max=3000)\n",
        "\n",
        "  studies = []\n",
        "  while True:\n",
        "    subset = client.search_for_studies(offset=offset)\n",
        "    if len(subset) == 0:\n",
        "        break\n",
        "    studies.extend(subset)\n",
        "    if limit is not None:\n",
        "      if len(studies) > limit:\n",
        "        break\n",
        "    offset += len(subset)\n",
        "  return studies[:limit]\n",
        "\n",
        "def log(message, end=\"\\\\n\", flush=False):\n",
        "  print(str(message), end=end, flush=flush)\n",
        "  fp = open(\"/var/www/html/index.html\", \"a\")\n",
        "  fp.write(str(message)+end)\n",
        "  fp.close()\n",
        "\n",
        "idcv2BaseURL = \"https://healthcare.googleapis.com/v1beta1/projects/idc-dev-etl/locations/us-central1/datasets\"\n",
        "\n",
        "dataset = sys.argv[1]\n",
        "dicomstore = sys.argv[2]\n",
        "offset = sys.argv[3]\n",
        "limit = sys.argv[4]\n",
        "\n",
        "bucket = \"gs://dev-isomics-idc-nii\"\n",
        "\n",
        "idcv2URL = os.path.join(idcv2BaseURL, dataset, \"dicomStores\", dicomstore, \"dicomWeb\")\n",
        "idcv2Client=freshClient(idcv2URL)\n",
        "log(f\"Getting up to {limit} studies starting at {offset}\")\n",
        "studies = all_studies(idcv2Client, offset=int(offset), limit=int(limit))\n",
        "log(str(len(studies)) + \" studies in \" + dicomstore)\n",
        "\n",
        "while len(studies) > 0:\n",
        "  study = studies.pop()\n",
        "  log(f\"Processing study {study}\")\n",
        "  idcv2Client=freshClient(idcv2URL)\n",
        "  studyMetadata = dicomweb_client.api.load_json_dataset(study)\n",
        "  log('processing %s' % studyMetadata.StudyInstanceUID)\n",
        "  series = idcv2Client.search_for_series(studyMetadata.StudyInstanceUID)\n",
        "  log(\"  len(series) = %d\" % len(series))\n",
        "  tries = 1\n",
        "  try:\n",
        "    for serie in series:\n",
        "      idcv2Client=freshClient(idcv2URL)\n",
        "      run(\"rm -rf /seriesInstances\")\n",
        "      run(\"rm -rf /converted\")\n",
        "      run(\"mkdir /seriesInstances\")\n",
        "      run(\"mkdir /converted\")\n",
        "      seriesMetadata = dicomweb_client.api.load_json_dataset(serie)\n",
        "      instances = idcv2Client.search_for_instances(\n",
        "        study_instance_uid=studyMetadata.StudyInstanceUID,\n",
        "        series_instance_uid=seriesMetadata.SeriesInstanceUID\n",
        "      )\n",
        "      for instance in instances:\n",
        "        instanceUID = instance['00080018']\n",
        "        instance = idcv2Client.retrieve_instance(\n",
        "          study_instance_uid=study['0020000D']['Value'][0],\n",
        "          series_instance_uid=serie['0020000E']['Value'][0],\n",
        "          sop_instance_uid= instance['00080018']['Value'][0]\n",
        "        )\n",
        "        log (instance.InstanceNumber, end=\", \", flush=True)\n",
        "        pydicom.write_file(\"/seriesInstances/%s.dcm\" % instance.SOPInstanceUID, instance)\n",
        "      sampleInstanceJSON = instance.to_json(bulk_data_element_handler=lambda x: \"\")\n",
        "      fp = open(f\"/converted/{serie['0020000E']['Value'][0]}-sampleHeader.json\", \"w\")\n",
        "      fp.write(sampleInstanceJSON)\n",
        "      fp.close()\n",
        "      log('done')\n",
        "      cmd = \"./dcm2niix \"\n",
        "      cmd += \"-o /converted \" # output dir\n",
        "      cmd += \"-f %s \" % seriesMetadata.SeriesInstanceUID # output format\n",
        "      cmd += \"-c %s \" % dataset # comment in nii file\n",
        "      cmd += \"-z o \" # optimize compression (with pigz)\n",
        "      cmd += \"/seriesInstances \" # source directory\n",
        "      log(cmd)\n",
        "      log(run(cmd))\n",
        "      cp = False\n",
        "      if cp:\n",
        "        files = run(\"find /converted -type f\").split('\\\\n')\n",
        "        log(files)\n",
        "        for filePath in files:\n",
        "          fileName = os.path.basename(filePath)\n",
        "          cmd = \"gsutil cp %s %s/%s/%s/%s/%s\" % (filePath, bucket, dataset, dicomstore, studyMetadata.StudyInstanceUID, fileName)\n",
        "          log(cmd)\n",
        "          run(cmd)\n",
        "      else:\n",
        "        cmd = f\"gsutil -m cp /converted/* {bucket}/{dataset}/{dicomstore}/{studyMetadata.StudyInstanceUID}\"\n",
        "\n",
        "      log('finished series')\n",
        "  except:\n",
        "    log(f'error in study {study} ')\n",
        "    log(sys.exc_info())\n",
        "    log(sys.exc_info()[0])\n",
        "    tries += 1\n",
        "    if tries > 5:\n",
        "      print(\"Giving up after 5 tries\")\n",
        "      break\n",
        "    # queue it up to re-run and sleep for a bit\n",
        "    studies.append(study)\n",
        "    time.sleep(random.randint(1,5))\n",
        "  log('finished study')\n",
        "  log(f'{len(studies)} remaining')\n",
        "log(f'finished')\n",
        "\n",
        "\"\"\"\n",
        "# end of python template\n",
        "\n",
        "#\n",
        "# create a startup script template\n",
        "# - this is configured by the notebook\n",
        "#   and then passed as metadata to the vm\n",
        "# . to use as a boot script\n",
        "#\n",
        "startupScriptTemplate = \"\"\"#! /bin/bash\n",
        "\n",
        "function log() { echo $(date) $* >> /var/www/html/index.html; }\n",
        "\n",
        "\n",
        "# work\n",
        "apt-get update\n",
        "apt-get install -y apache2\n",
        "chmod a+w /var/www/html/index.html \n",
        "echo Processing %%LIMIT%% at %%OFFSET%% > /var/www/html/index.html\n",
        "\n",
        "  log Starting\n",
        "  log token $(gcloud auth print-access-token)\n",
        "gsutil cp gs://dev-isomics-idc-nii/convertStudies.py convertStudies.py\n",
        "  log Installing\n",
        "apt-get install -y wget unzip\n",
        "wget https://github.com/rordenlab/dcm2niix/releases/download/v1.0.20201102/dcm2niix_lnx.zip\n",
        "unzip dcm2niix_lnx.zip\n",
        "\n",
        "# add swap\n",
        "fallocate -l 100G /swapfile\n",
        "chmod 600 /swapfile\n",
        "mkswap /swapfile\n",
        "swapon /swapfile\n",
        "\n",
        "apt-get install -y git python3-pip\n",
        "pip3 install git+https://github.com/pieper/dicomweb-client@add-retry\n",
        "\n",
        "  log running conversion...\n",
        "\n",
        "python3 convertStudies.py idc v2 %%OFFSET%% %%LIMIT%% >> /var/www/html/index.html\n",
        "\n",
        "log ------\n",
        "log syslog\n",
        "log ------\n",
        "\n",
        "cat /var/log/syslog >> /var/www/html/index.html\n",
        "\n",
        "  log done, shutting down\n",
        "\n",
        "gsutil cp /var/www/html/index.html gs://dev-isomics-idc-nii/idc/v2/convert-log-%%OFFSET%%-%%LIMIT%%.html\n",
        "\n",
        "\n",
        "## finally have the machine delete itself\n",
        "# from: https://cloud.google.com/community/tutorials/create-a-self-deleting-virtual-machine\n",
        "export NAME=$(curl -X GET http://metadata.google.internal/computeMetadata/v1/instance/name -H 'Metadata-Flavor: Google')\n",
        "export ZONE=$(curl -X GET http://metadata.google.internal/computeMetadata/v1/instance/zone -H 'Metadata-Flavor: Google')\n",
        "gcloud --quiet compute instances delete $NAME --zone=$ZONE\n",
        "\"\"\"\n",
        "### end of boot script template\n",
        "\n",
        "#\n",
        "# gcloud Templates\n",
        "#\n",
        "# - for deleting any lingering machines\n",
        "deleteTemplate = \"gcloud compute instances delete %%INSTANCE_NAME%% \\\n",
        " --quiet --project idc-sandbox-000 --zone us-central1-a\"\n",
        "# - for running the actual job\n",
        "# - needs cloud-platform scope to access healthcare API\n",
        "# - make sure the service account is whitelisted for public healthcare datset access\n",
        "# -- https://services.google.com/fb/forms/cloudhealthcarepublicdatasetaccess/\n",
        "#\n",
        "runTemplate = \"gcloud compute instances create %%INSTANCE_NAME%% \\\n",
        " --machine-type=e2-custom-2-16384 --async \\\n",
        " --boot-disk-size=500GB \\\n",
        " --scopes=https://www.googleapis.com/auth/cloud-platform \\\n",
        " --service-account=spd-dicom-service@idc-sandbox-000.iam.gserviceaccount.com \\\n",
        " --tags http-server \\\n",
        " --project idc-sandbox-000 \\\n",
        " --zone us-central1-a \\\n",
        " --metadata-from-file startup-script=startup-%%INSTANCE_NAME%%.sh\"\n",
        "\n",
        "totalStudyCount = 41553 # calculated for v2\n",
        "instanceCount = 10\n",
        "studiesPerInstance = totalStudyCount // instanceCount\n",
        "extraStudies = totalStudyCount % instanceCount\n",
        "\n",
        "\n",
        "open(f'convertStudies.py', 'w').write(pythonScript)\n",
        "run(f\"gsutil cp convertStudies.py gs://dev-isomics-idc-nii/convertStudies.py\")\n",
        "\n",
        "totalStudies = 0\n",
        "for instanceIndex in range(instanceCount):\n",
        "    studyLimit = studiesPerInstance + extraStudies if instanceIndex == instanceCount-1 else studiesPerInstance\n",
        "    studyOffset = studiesPerInstance * instanceIndex\n",
        "    instanceName = f\"sdp-idc-nii-{instanceIndex}\"\n",
        "    deleteCommand = deleteTemplate.replace(\"%%INSTANCE_NAME%%\", instanceName)\n",
        "    try:\n",
        "      run(deleteCommand)\n",
        "    except:\n",
        "      print('nothing to delete')\n",
        "\n",
        "\n",
        "    startupScript = startupScriptTemplate.replace(\"%%INSTANCE_NAME%%\", instanceName).replace(\"%%OFFSET%%\", str(studyOffset)).replace(\"%%LIMIT%%\", str(studyLimit))\n",
        "    open(f\"startup-{instanceName}.sh\", 'w').write(startupScript)\n",
        "\n",
        "    runCommand = runTemplate.replace(\"%%INSTANCE_NAME%%\", instanceName)\n",
        "    print(runCommand)\n",
        "    print(studyOffset, studyLimit)\n",
        "    run(runCommand)\n",
        "print(f\"\\n - Should be {instanceCount} machines running\")"
      ],
      "execution_count": 3,
      "outputs": [
        {
          "output_type": "stream",
          "text": [
            "nothing to delete\n",
            "gcloud compute instances create sdp-idc-nii-0  --machine-type=e2-custom-2-16384 --async  --boot-disk-size=500GB  --scopes=https://www.googleapis.com/auth/cloud-platform  --service-account=spd-dicom-service@idc-sandbox-000.iam.gserviceaccount.com  --tags http-server  --project idc-sandbox-000  --zone us-central1-a  --metadata-from-file startup-script=startup-sdp-idc-nii-0.sh\n",
            "0 4155\n",
            "nothing to delete\n",
            "gcloud compute instances create sdp-idc-nii-1  --machine-type=e2-custom-2-16384 --async  --boot-disk-size=500GB  --scopes=https://www.googleapis.com/auth/cloud-platform  --service-account=spd-dicom-service@idc-sandbox-000.iam.gserviceaccount.com  --tags http-server  --project idc-sandbox-000  --zone us-central1-a  --metadata-from-file startup-script=startup-sdp-idc-nii-1.sh\n",
            "4155 4155\n",
            "nothing to delete\n",
            "gcloud compute instances create sdp-idc-nii-2  --machine-type=e2-custom-2-16384 --async  --boot-disk-size=500GB  --scopes=https://www.googleapis.com/auth/cloud-platform  --service-account=spd-dicom-service@idc-sandbox-000.iam.gserviceaccount.com  --tags http-server  --project idc-sandbox-000  --zone us-central1-a  --metadata-from-file startup-script=startup-sdp-idc-nii-2.sh\n",
            "8310 4155\n",
            "nothing to delete\n",
            "gcloud compute instances create sdp-idc-nii-3  --machine-type=e2-custom-2-16384 --async  --boot-disk-size=500GB  --scopes=https://www.googleapis.com/auth/cloud-platform  --service-account=spd-dicom-service@idc-sandbox-000.iam.gserviceaccount.com  --tags http-server  --project idc-sandbox-000  --zone us-central1-a  --metadata-from-file startup-script=startup-sdp-idc-nii-3.sh\n",
            "12465 4155\n",
            "nothing to delete\n",
            "gcloud compute instances create sdp-idc-nii-4  --machine-type=e2-custom-2-16384 --async  --boot-disk-size=500GB  --scopes=https://www.googleapis.com/auth/cloud-platform  --service-account=spd-dicom-service@idc-sandbox-000.iam.gserviceaccount.com  --tags http-server  --project idc-sandbox-000  --zone us-central1-a  --metadata-from-file startup-script=startup-sdp-idc-nii-4.sh\n",
            "16620 4155\n",
            "nothing to delete\n",
            "gcloud compute instances create sdp-idc-nii-5  --machine-type=e2-custom-2-16384 --async  --boot-disk-size=500GB  --scopes=https://www.googleapis.com/auth/cloud-platform  --service-account=spd-dicom-service@idc-sandbox-000.iam.gserviceaccount.com  --tags http-server  --project idc-sandbox-000  --zone us-central1-a  --metadata-from-file startup-script=startup-sdp-idc-nii-5.sh\n",
            "20775 4155\n",
            "nothing to delete\n",
            "gcloud compute instances create sdp-idc-nii-6  --machine-type=e2-custom-2-16384 --async  --boot-disk-size=500GB  --scopes=https://www.googleapis.com/auth/cloud-platform  --service-account=spd-dicom-service@idc-sandbox-000.iam.gserviceaccount.com  --tags http-server  --project idc-sandbox-000  --zone us-central1-a  --metadata-from-file startup-script=startup-sdp-idc-nii-6.sh\n",
            "24930 4155\n",
            "nothing to delete\n",
            "gcloud compute instances create sdp-idc-nii-7  --machine-type=e2-custom-2-16384 --async  --boot-disk-size=500GB  --scopes=https://www.googleapis.com/auth/cloud-platform  --service-account=spd-dicom-service@idc-sandbox-000.iam.gserviceaccount.com  --tags http-server  --project idc-sandbox-000  --zone us-central1-a  --metadata-from-file startup-script=startup-sdp-idc-nii-7.sh\n",
            "29085 4155\n",
            "nothing to delete\n",
            "gcloud compute instances create sdp-idc-nii-8  --machine-type=e2-custom-2-16384 --async  --boot-disk-size=500GB  --scopes=https://www.googleapis.com/auth/cloud-platform  --service-account=spd-dicom-service@idc-sandbox-000.iam.gserviceaccount.com  --tags http-server  --project idc-sandbox-000  --zone us-central1-a  --metadata-from-file startup-script=startup-sdp-idc-nii-8.sh\n",
            "33240 4155\n",
            "nothing to delete\n",
            "gcloud compute instances create sdp-idc-nii-9  --machine-type=e2-custom-2-16384 --async  --boot-disk-size=500GB  --scopes=https://www.googleapis.com/auth/cloud-platform  --service-account=spd-dicom-service@idc-sandbox-000.iam.gserviceaccount.com  --tags http-server  --project idc-sandbox-000  --zone us-central1-a  --metadata-from-file startup-script=startup-sdp-idc-nii-9.sh\n",
            "37395 4158\n",
            "\n",
            " - Should be 10 machines running\n"
          ],
          "name": "stdout"
        }
      ]
    },
    {
      "cell_type": "code",
      "metadata": {
        "id": "6mByXpgbOTpd",
        "colab": {
          "base_uri": "https://localhost:8080/"
        },
        "outputId": "f5ed46ec-37d1-4157-eb8d-a9efc1c32452"
      },
      "source": [
        "!gcloud compute instances list --project idc-sandbox-000\n",
        "\n",
        "### delete all of them:\n",
        "# gcloud compute instances delete $(gcloud compute instances list --filter=\"name~'sdp-idc-nii*'\" --format=\"value(name)\")\n"
      ],
      "execution_count": 4,
      "outputs": [
        {
          "output_type": "stream",
          "text": [
            "NAME                             ZONE           MACHINE_TYPE   PREEMPTIBLE  INTERNAL_IP  EXTERNAL_IP      STATUS\n",
            "af-gpu-feb-temp                  us-central1-a  n1-standard-4               10.128.0.81                   TERMINATED\n",
            "af-wsi                           us-central1-a  e2-highmem-4                10.128.0.42                   TERMINATED\n",
            "sdp-april                        us-central1-a  e2-standard-8               10.128.0.16  34.68.87.171     RUNNING\n",
            "sdp-idc-nii-0                    us-central1-a  e2-highmem-2                10.128.0.23  35.193.173.139   RUNNING\n",
            "sdp-idc-nii-1                    us-central1-a  e2-highmem-2                10.128.0.24  34.71.39.192     RUNNING\n",
            "sdp-idc-nii-2                    us-central1-a  e2-highmem-2                10.128.0.26  35.202.227.79    RUNNING\n",
            "sdp-idc-nii-3                    us-central1-a  e2-highmem-2                10.128.0.27  35.188.213.188   RUNNING\n",
            "sdp-idc-nii-4                    us-central1-a  e2-highmem-2                10.128.0.28  34.72.81.105     RUNNING\n",
            "sdp-idc-nii-5                    us-central1-a  e2-highmem-2                10.128.0.29  146.148.64.232   RUNNING\n",
            "sdp-idc-nii-6                    us-central1-a  e2-highmem-2                10.128.0.30  104.198.161.166  RUNNING\n",
            "sdp-idc-nii-7                    us-central1-a  e2-highmem-2                10.128.0.31  35.232.189.193   RUNNING\n",
            "sdp-idc-nii-8                    us-central1-a  e2-highmem-2                10.128.0.32  34.69.239.58     RUNNING\n",
            "sdp-idc-nii-9                    us-central1-a  e2-highmem-2                10.128.0.33  34.69.225.145    STAGING\n",
            "wjrl-test-inventory              us-central1-a  n1-standard-1               10.128.0.17                   TERMINATED\n",
            "medical-image-analysis-use-case  us-west1-b     n1-standard-4               10.138.0.6                    TERMINATED\n",
            "nn-unet-at-idc                   us-west1-b     n1-highmem-4                10.138.0.8   35.227.166.26    RUNNING\n"
          ],
          "name": "stdout"
        }
      ]
    },
    {
      "cell_type": "markdown",
      "metadata": {
        "id": "DbHS-wil2KCI"
      },
      "source": [
        "***Other Experiments***"
      ]
    },
    {
      "cell_type": "markdown",
      "metadata": {
        "id": "ZS25UQ22jsUp"
      },
      "source": [
        "# Feature Extraction\n",
        "\n",
        "```\n",
        "time  gsutil ls gs://dev-isomics-idcv2-nii/\\*/\\* | tee series\n",
        "\n",
        "# extract.sh\n",
        "#!/bin/bash\n",
        "\n",
        "  echo $*\n",
        "  gsutil cp $1 .\n",
        "  export name=$(basename $1)  \n",
        "  gunzip ${name}\n",
        "  export name=$(basename -s .gz ${name})  \n",
        "  ./featExtract1.6/featExtract.ubu -w $name ${name}.key\n",
        "  gsutil cp ${name}.key gs://dev-isomics-features\n",
        "  rm ${name}\n",
        "  rm ${name}.key\n",
        "\n",
        "cat series | grep .nii.gz | xargs -n 1 -P 4 ./extract.sh\n",
        "\n",
        "```\n"
      ]
    },
    {
      "cell_type": "code",
      "metadata": {
        "id": "EWdcKj8NjrU-"
      },
      "source": [
        ""
      ],
      "execution_count": null,
      "outputs": []
    },
    {
      "cell_type": "code",
      "metadata": {
        "id": "BWBXC3-ftGpe"
      },
      "source": [
        "print(run(\"date\"))\n",
        "collections = healthcareDatasets()\n",
        "print(collections)\n",
        "\n",
        "for collection in collections:\n",
        "    print(run(\"date\"))\n",
        "    print(collection)\n",
        "    # convert this inner loop into a compute instance launch\n",
        "    print( run(\"gsutil -u idc-sandbox-000 du -sh gs://gcs-public-data--healthcare-idcv2-%s\" % collection) )"
      ],
      "execution_count": null,
      "outputs": []
    },
    {
      "cell_type": "code",
      "metadata": {
        "id": "6gLSZ34K0_zH"
      },
      "source": [
        "%%bash\n",
        "\n",
        "# sudo apt-get install parallel\n",
        "\n",
        "#time  gsutil ls gs://dev-isomics-idcv2-nii/\\*/\\* | tee series\n",
        "# \n",
        "\n",
        "cat << EOF > extract.sh\n",
        "#!/bin/bash\n",
        "  echo $*\n",
        "  gsutil cp $1 .\n",
        "  export name=$(basename $1)  \n",
        "  gunzip ${name}\n",
        "  export name=$(basename -s .gz ${name})  \n",
        "  ./featExtract1.6/featExtract.ubu -w $name ${name}.key\n",
        "  gsutil cp ${name}.key gs://dev-isomics-features\n",
        "  rm ${name}\n",
        "  rm ${name}.key\n",
        "\n",
        "EOF\n",
        "\n",
        "./extract.sh gs://dev-isomics-idcv2-nii/4d-lung/1.3.6.1.4.1.14519.5.2.1.6834.5010.101259051157428667137154755870/1.3.6.1.4.1.14519.5.2.1.6834.5010.110117618917781740286980097865.nii.gz\n",
        "\n",
        "\n",
        "time cat series | grep ct-lymph | head -100 | grep .nii.gz | parallel -j 4 ./extract.sh\n",
        "\n",
        "time cat series | grep .nii.gz | xargs -n 1 -P 4  ./extract.sh 2>&1 | tee runlog.txt \n"
      ],
      "execution_count": null,
      "outputs": []
    },
    {
      "cell_type": "code",
      "metadata": {
        "id": "r4gixABxDpov"
      },
      "source": [
        ""
      ],
      "execution_count": null,
      "outputs": []
    }
  ]
}