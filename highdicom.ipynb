{
  "nbformat": 4,
  "nbformat_minor": 0,
  "metadata": {
    "colab": {
      "provenance": [],
      "authorship_tag": "ABX9TyP+/SMvdk9gKBJcfowdZmkR",
      "include_colab_link": true
    },
    "kernelspec": {
      "name": "python3",
      "display_name": "Python 3"
    },
    "language_info": {
      "name": "python"
    }
  },
  "cells": [
    {
      "cell_type": "markdown",
      "metadata": {
        "id": "view-in-github",
        "colab_type": "text"
      },
      "source": [
        "<a href=\"https://colab.research.google.com/github/pieper/Notebooks/blob/master/highdicom.ipynb\" target=\"_parent\"><img src=\"https://colab.research.google.com/assets/colab-badge.svg\" alt=\"Open In Colab\"/></a>"
      ]
    },
    {
      "cell_type": "code",
      "execution_count": null,
      "metadata": {
        "colab": {
          "base_uri": "https://localhost:8080/"
        },
        "id": "T1ua05RZtZQE",
        "outputId": "8d75f421-71ac-4898-85a7-b56bb31e8610"
      },
      "outputs": [
        {
          "output_type": "stream",
          "name": "stdout",
          "text": [
            "Looking in indexes: https://pypi.org/simple, https://us-python.pkg.dev/colab-wheels/public/simple/\n",
            "Requirement already satisfied: highdicom in /usr/local/lib/python3.7/dist-packages (0.19.0)\n",
            "Requirement already satisfied: pylibjpeg-openjpeg>=1.2 in /usr/local/lib/python3.7/dist-packages (from highdicom) (1.2.1)\n",
            "Requirement already satisfied: pylibjpeg-libjpeg>=1.3 in /usr/local/lib/python3.7/dist-packages (from highdicom) (1.3.2)\n",
            "Requirement already satisfied: numpy>=1.19 in /usr/local/lib/python3.7/dist-packages (from highdicom) (1.21.6)\n",
            "Requirement already satisfied: pillow-jpls>=1.0 in /usr/local/lib/python3.7/dist-packages (from highdicom) (1.2.0)\n",
            "Requirement already satisfied: pydicom>=2.3.0 in /usr/local/lib/python3.7/dist-packages (from highdicom) (2.3.0)\n",
            "Requirement already satisfied: pylibjpeg>=1.4 in /usr/local/lib/python3.7/dist-packages (from highdicom) (1.4.0)\n",
            "Requirement already satisfied: pillow>=8.3 in /usr/local/lib/python3.7/dist-packages (from highdicom) (9.3.0)\n"
          ]
        }
      ],
      "source": [
        "!pip install highdicom\n",
        "import highdicom"
      ]
    },
    {
      "cell_type": "code",
      "source": [
        "!curl -L \"https://www.dropbox.com/s/9eesbv22hsaj4sn/ABD_LYMPH_008_SEG.dcm?dl=0\" --output ABD_LYMPH_008_SEG.dcm"
      ],
      "metadata": {
        "colab": {
          "base_uri": "https://localhost:8080/"
        },
        "id": "WmF4hZjOtgQM",
        "outputId": "cd007849-3ef3-4f7b-ece1-c5356a1c21d8"
      },
      "execution_count": null,
      "outputs": [
        {
          "output_type": "stream",
          "name": "stdout",
          "text": [
            "  % Total    % Received % Xferd  Average Speed   Time    Time     Time  Current\n",
            "                                 Dload  Upload   Total   Spent    Left  Speed\n",
            "100   129    0   129    0     0    432      0 --:--:-- --:--:-- --:--:--   431\n",
            "100   340  100   340    0     0    503      0 --:--:-- --:--:-- --:--:--   503\n",
            "100   534    0   534    0     0    440      0 --:--:--  0:00:01 --:--:--     0\n",
            "100  404M  100  404M    0     0  68.6M      0  0:00:05  0:00:05 --:--:-- 93.3M\n"
          ]
        }
      ]
    },
    {
      "cell_type": "code",
      "source": [
        "# takes about 15 seconds for 1 segment, 43 seconds for 3, about 8 minutes for all 98\n",
        "import pydicom\n",
        "import highdicom\n",
        "\n",
        "ds = pydicom.read_file(\"ABD_LYMPH_008_SEG.dcm\")\n",
        "shapes = []\n",
        "for frames, frame_descriptions, description in highdicom.seg.utils.iter_segments(ds):\n",
        "  print(frames.shape)\n",
        "  print(\n",
        "      set([\n",
        "          item.SegmentIdentificationSequence[0].ReferencedSegmentNumber\n",
        "          for item in frame_descriptions\n",
        "      ])\n",
        "  )\n",
        "  print(description.SegmentNumber)\n",
        "  shapes.append(frames.shape)\n",
        "  if len(shapes) > 2:\n",
        "    break"
      ],
      "metadata": {
        "colab": {
          "base_uri": "https://localhost:8080/"
        },
        "id": "ZLhunpq-vy61",
        "outputId": "59495f62-da22-4cff-d26b-c4e52875919d"
      },
      "execution_count": null,
      "outputs": [
        {
          "output_type": "stream",
          "name": "stdout",
          "text": [
            "(21, 512, 512)\n",
            "{1}\n",
            "1\n",
            "(332, 512, 512)\n",
            "{2}\n",
            "2\n",
            "(469, 512, 512)\n",
            "{3}\n",
            "3\n"
          ]
        }
      ]
    },
    {
      "cell_type": "code",
      "source": [
        "# takes about 37 seconds for 1 or 3 segments, 40 seconds for 6, but crashes colab to get all 98\n",
        "seg = highdicom.seg.segread(\"ABD_LYMPH_008_SEG.dcm\")\n",
        "print('read file')\n",
        "\n",
        "source_uids = seg.get_source_image_uids()\n",
        "source_sops = [uids[2] for uids in source_uids]\n",
        "\n",
        "pix = seg.get_pixels_by_source_instance(\n",
        "    source_sops,\n",
        "    ignore_spatial_locations=True,\n",
        "    segment_numbers=[1,2,3,4,5,6]  # you could choose specific segments if you like\n",
        ")\n",
        "\n",
        "print(pix.shape)"
      ],
      "metadata": {
        "id": "S3lxPVum_lfw",
        "colab": {
          "base_uri": "https://localhost:8080/"
        },
        "outputId": "44cb44d8-5381-4dd9-a776-0e3518b3dd25"
      },
      "execution_count": null,
      "outputs": [
        {
          "output_type": "stream",
          "name": "stdout",
          "text": [
            "read file\n",
            "(643, 512, 512, 6)\n"
          ]
        }
      ]
    },
    {
      "cell_type": "code",
      "source": [
        "seg = highdicom.seg.segread(\"ABD_LYMPH_008_SEG.dcm\") ;# 29 seconds"
      ],
      "metadata": {
        "id": "5Odc-4aCYIil"
      },
      "execution_count": null,
      "outputs": []
    },
    {
      "cell_type": "code",
      "source": [
        "seg.__class__"
      ],
      "metadata": {
        "colab": {
          "base_uri": "https://localhost:8080/"
        },
        "id": "akQZ1ExSE3mq",
        "outputId": "57ce5ba8-3588-432a-ffac-bd3fe0180114"
      },
      "execution_count": null,
      "outputs": [
        {
          "output_type": "execute_result",
          "data": {
            "text/plain": [
              "highdicom.seg.sop.Segmentation"
            ]
          },
          "metadata": {},
          "execution_count": 4
        }
      ]
    },
    {
      "cell_type": "code",
      "source": [
        "!pip install pydicom\n",
        "import pydicom"
      ],
      "metadata": {
        "id": "T2QxLvEiFPUX",
        "colab": {
          "base_uri": "https://localhost:8080/"
        },
        "outputId": "20f488e1-78f4-434e-a1ae-3445b135032d"
      },
      "execution_count": null,
      "outputs": [
        {
          "output_type": "stream",
          "name": "stdout",
          "text": [
            "Looking in indexes: https://pypi.org/simple, https://us-python.pkg.dev/colab-wheels/public/simple/\n",
            "Collecting pydicom\n",
            "  Downloading pydicom-2.3.0-py3-none-any.whl (2.0 MB)\n",
            "\u001b[K     |████████████████████████████████| 2.0 MB 5.1 MB/s \n",
            "\u001b[?25hInstalling collected packages: pydicom\n",
            "Successfully installed pydicom-2.3.0\n"
          ]
        }
      ]
    },
    {
      "cell_type": "code",
      "source": [
        "ds = pydicom.read_file(\"ABD_LYMPH_008_SEG.dcm\") ;# 15 seconds"
      ],
      "metadata": {
        "id": "NlMI_QhQFik2"
      },
      "execution_count": null,
      "outputs": []
    },
    {
      "cell_type": "code",
      "source": [
        "import profile"
      ],
      "metadata": {
        "id": "3TJU6DVzq7Yi"
      },
      "execution_count": null,
      "outputs": []
    },
    {
      "cell_type": "code",
      "source": [
        "profile.run('highdicom.seg.segread(\"ABD_LYMPH_008_SEG.dcm\")')"
      ],
      "metadata": {
        "colab": {
          "base_uri": "https://localhost:8080/"
        },
        "id": "zxwpba1CrGaL",
        "outputId": "0af8ec91-b157-441d-b2a5-321fde2c0c76"
      },
      "execution_count": null,
      "outputs": [
        {
          "output_type": "stream",
          "name": "stdout",
          "text": [
            "         96241089 function calls (84005843 primitive calls) in 402.429 seconds\n",
            "\n",
            "   Ordered by: standard name\n",
            "\n",
            "   ncalls  tottime  percall  cumtime  percall filename:lineno(function)\n",
            "        1    0.000    0.000    0.000    0.000 :0(__import__)\n",
            "  1163209    1.988    0.000    1.988    0.000 :0(__new__)\n",
            "   761789    3.233    0.000    4.802    0.000 :0(__reduce_ex__)\n",
            "    25673    0.070    0.000    0.070    0.000 :0(_abc_instancecheck)\n",
            "     50/5    0.000    0.000    0.000    0.000 :0(_abc_subclasscheck)\n",
            "        1    0.000    0.000    0.000    0.000 :0(_fix_co_filename)\n",
            "        1    0.000    0.000    0.000    0.000 :0(acquire)\n",
            "        9    0.000    0.000    0.000    0.000 :0(acquire_lock)\n",
            "        2    0.000    0.000    0.001    0.000 :0(all)\n",
            "        2    0.000    0.000    0.000    0.000 :0(allocate_lock)\n",
            "        2    0.014    0.007    0.055    0.027 :0(any)\n",
            "  2071295    2.657    0.000    2.657    0.000 :0(append)\n",
            "        2    0.005    0.002    0.005    0.002 :0(array)\n",
            "    12737    0.165    0.000    0.165    0.000 :0(asarray)\n",
            "   102861    0.237    0.000    0.237    0.000 :0(b2a_hex)\n",
            "    25573    0.068    0.000    0.068    0.000 :0(calcsize)\n",
            "        7    0.000    0.000    0.000    0.000 :0(callable)\n",
            "        1    0.000    0.000    0.000    0.000 :0(close)\n",
            "   218257    0.423    0.000    0.423    0.000 :0(copy)\n",
            "   361882    1.945    0.000    1.945    0.000 :0(decode)\n",
            "    26353    0.053    0.000    0.053    0.000 :0(endswith)\n",
            "      2/1    0.000    0.000  402.429  402.429 :0(exec)\n",
            "        6    0.000    0.000    0.000    0.000 :0(extend)\n",
            "        1    0.000    0.000    0.000    0.000 :0(format)\n",
            "        3    0.000    0.000    0.000    0.000 :0(from_bytes)\n",
            "        6    0.000    0.000    0.000    0.000 :0(fspath)\n",
            " 20961380   40.911    0.000   41.103    0.000 :0(get)\n",
            "        2    0.000    0.000    0.000    0.000 :0(get_ident)\n",
            "  1561993    3.587    0.000    4.753    0.000 :0(getattr)\n",
            "849559/785055    2.839    0.000   10.503    0.000 :0(hasattr)\n",
            "103293/103284    0.150    0.000    0.150    0.000 :0(hash)\n",
            " 12140723   23.738    0.000   23.738    0.000 :0(id)\n",
            "50948/12737    0.174    0.000    1.578    0.000 :0(implement_array_function)\n",
            "        1    0.000    0.000    0.000    0.000 :0(is_frozen)\n",
            "        7    0.000    0.000    0.000    0.000 :0(isalnum)\n",
            "  6740189    9.942    0.000   10.081    0.000 :0(isinstance)\n",
            "   876870    1.677    0.000    1.677    0.000 :0(issubclass)\n",
            "    12737    0.023    0.000    0.023    0.000 :0(item)\n",
            "   720141    1.162    0.000    1.162    0.000 :0(items)\n",
            "   118187    1.519    0.000    2.954    0.000 :0(join)\n",
            "        3    0.000    0.000    0.000    0.000 :0(keys)\n",
            "1135922/1123183    2.533    0.000    2.566    0.000 :0(len)\n",
            "        1    0.005    0.005    0.005    0.005 :0(loads)\n",
            "  2089146    5.186    0.000    5.186    0.000 :0(match)\n",
            "334952/66    2.302    0.000  117.771    1.784 :0(next)\n",
            "    12737    0.225    0.000    0.225    0.000 :0(nonzero)\n",
            "        1    0.000    0.000    0.000    0.000 :0(open)\n",
            "   965015    4.240    0.000    4.240    0.000 :0(read)\n",
            "        1    0.000    0.000    0.000    0.000 :0(release)\n",
            "        9    0.000    0.000    0.000    0.000 :0(release_lock)\n",
            "        8    0.000    0.000    0.000    0.000 :0(rpartition)\n",
            "    14106    0.024    0.000    0.024    0.000 :0(rstrip)\n",
            "   102867    0.383    0.000    0.383    0.000 :0(seek)\n",
            "        1    0.000    0.000    0.000    0.000 :0(setattr)\n",
            "        1    0.000    0.000    0.000    0.000 :0(setprofile)\n",
            "        1    0.000    0.000    0.000    0.000 :0(sorted)\n",
            "    26930    0.057    0.000    0.057    0.000 :0(split)\n",
            "       52    0.000    0.000    0.000    0.000 :0(startswith)\n",
            "        7    0.000    0.000    0.000    0.000 :0(stat)\n",
            "   119814    0.164    0.000    0.164    0.000 :0(strip)\n",
            "  1103941    8.583    0.000    8.583    0.000 :0(tell)\n",
            "    12737    0.037    0.000    0.037    0.000 :0(transpose)\n",
            "   745021    2.736    0.000    2.736    0.000 :0(unpack)\n",
            "   372073    0.990    0.000    0.990    0.000 :0(update)\n",
            "        1    0.000    0.000    0.000    0.000 :0(values)\n",
            "    12737    0.087    0.000    1.687    0.000 <__array_function__ internals>:2(argwhere)\n",
            "    12737    0.061    0.000    0.132    0.000 <__array_function__ internals>:2(ndim)\n",
            "    12737    0.062    0.000    0.539    0.000 <__array_function__ internals>:2(nonzero)\n",
            "    12737    0.071    0.000    0.716    0.000 <__array_function__ internals>:2(transpose)\n",
            "   360329    1.448    0.000    3.120    0.000 <frozen importlib._bootstrap>:1009(_handle_fromlist)\n",
            "        1    0.000    0.000    0.000    0.000 <frozen importlib._bootstrap>:103(release)\n",
            "        1    0.000    0.000    0.000    0.000 <frozen importlib._bootstrap>:143(__init__)\n",
            "        1    0.000    0.000    0.000    0.000 <frozen importlib._bootstrap>:147(__enter__)\n",
            "        1    0.000    0.000    0.000    0.000 <frozen importlib._bootstrap>:151(__exit__)\n",
            "        1    0.000    0.000    0.000    0.000 <frozen importlib._bootstrap>:157(_get_module_lock)\n",
            "        1    0.000    0.000    0.000    0.000 <frozen importlib._bootstrap>:176(cb)\n",
            "        1    0.000    0.000    0.072    0.072 <frozen importlib._bootstrap>:211(_call_with_frames_removed)\n",
            "        7    0.000    0.000    0.000    0.000 <frozen importlib._bootstrap>:222(_verbose_message)\n",
            "        1    0.000    0.000    0.000    0.000 <frozen importlib._bootstrap>:307(__init__)\n",
            "        1    0.000    0.000    0.000    0.000 <frozen importlib._bootstrap>:311(__enter__)\n",
            "        1    0.000    0.000    0.000    0.000 <frozen importlib._bootstrap>:318(__exit__)\n",
            "        4    0.000    0.000    0.000    0.000 <frozen importlib._bootstrap>:321(<genexpr>)\n",
            "        1    0.000    0.000    0.000    0.000 <frozen importlib._bootstrap>:35(_new_module)\n",
            "        1    0.000    0.000    0.000    0.000 <frozen importlib._bootstrap>:369(__init__)\n",
            "        2    0.000    0.000    0.000    0.000 <frozen importlib._bootstrap>:403(cached)\n",
            "        1    0.000    0.000    0.000    0.000 <frozen importlib._bootstrap>:416(parent)\n",
            "        1    0.000    0.000    0.000    0.000 <frozen importlib._bootstrap>:424(has_location)\n",
            "        1    0.000    0.000    0.000    0.000 <frozen importlib._bootstrap>:504(_init_module_attrs)\n",
            "        1    0.000    0.000    0.000    0.000 <frozen importlib._bootstrap>:576(module_from_spec)\n",
            "        1    0.000    0.000    0.000    0.000 <frozen importlib._bootstrap>:58(__init__)\n",
            "        1    0.000    0.000    0.079    0.079 <frozen importlib._bootstrap>:663(_load_unlocked)\n",
            "        1    0.000    0.000    0.000    0.000 <frozen importlib._bootstrap>:719(find_spec)\n",
            "        1    0.000    0.000    0.000    0.000 <frozen importlib._bootstrap>:78(acquire)\n",
            "        1    0.000    0.000    0.000    0.000 <frozen importlib._bootstrap>:792(find_spec)\n",
            "        7    0.000    0.000    0.000    0.000 <frozen importlib._bootstrap>:855(__enter__)\n",
            "        7    0.000    0.000    0.000    0.000 <frozen importlib._bootstrap>:859(__exit__)\n",
            "        4    0.000    0.000    0.000    0.000 <frozen importlib._bootstrap>:873(_find_spec_legacy)\n",
            "        1    0.000    0.000    0.000    0.000 <frozen importlib._bootstrap>:882(_find_spec)\n",
            "        1    0.000    0.000    0.079    0.079 <frozen importlib._bootstrap>:948(_find_and_load_unlocked)\n",
            "        1    0.000    0.000    0.079    0.079 <frozen importlib._bootstrap>:978(_find_and_load)\n",
            "        1    0.000    0.000    0.000    0.000 <frozen importlib._bootstrap_external>:1203(_path_importer_cache)\n",
            "        1    0.000    0.000    0.000    0.000 <frozen importlib._bootstrap_external>:1240(_get_spec)\n",
            "        1    0.000    0.000    0.000    0.000 <frozen importlib._bootstrap_external>:1272(find_spec)\n",
            "        1    0.000    0.000    0.000    0.000 <frozen importlib._bootstrap_external>:1351(_get_spec)\n",
            "        1    0.000    0.000    0.000    0.000 <frozen importlib._bootstrap_external>:1356(find_spec)\n",
            "        2    0.000    0.000    0.000    0.000 <frozen importlib._bootstrap_external>:271(cache_from_source)\n",
            "        1    0.000    0.000    0.000    0.000 <frozen importlib._bootstrap_external>:369(_get_cached)\n",
            "        1    0.000    0.000    0.000    0.000 <frozen importlib._bootstrap_external>:40(_relax_case)\n",
            "        1    0.000    0.000    0.000    0.000 <frozen importlib._bootstrap_external>:401(_check_name_wrapper)\n",
            "        1    0.000    0.000    0.000    0.000 <frozen importlib._bootstrap_external>:438(_classify_pyc)\n",
            "        1    0.000    0.000    0.000    0.000 <frozen importlib._bootstrap_external>:471(_validate_timestamp_pyc)\n",
            "        3    0.000    0.000    0.000    0.000 <frozen importlib._bootstrap_external>:51(_r_long)\n",
            "        1    0.000    0.000    0.005    0.005 <frozen importlib._bootstrap_external>:523(_compile_bytecode)\n",
            "        6    0.000    0.000    0.000    0.000 <frozen importlib._bootstrap_external>:56(_path_join)\n",
            "        1    0.000    0.000    0.000    0.000 <frozen importlib._bootstrap_external>:574(spec_from_file_location)\n",
            "        6    0.000    0.000    0.000    0.000 <frozen importlib._bootstrap_external>:58(<listcomp>)\n",
            "        2    0.000    0.000    0.000    0.000 <frozen importlib._bootstrap_external>:62(_path_split)\n",
            "        1    0.000    0.000    0.000    0.000 <frozen importlib._bootstrap_external>:719(create_module)\n",
            "        1    0.000    0.000    0.078    0.078 <frozen importlib._bootstrap_external>:722(exec_module)\n",
            "        3    0.000    0.000    0.000    0.000 <frozen importlib._bootstrap_external>:74(_path_stat)\n",
            "        1    0.000    0.000    0.006    0.006 <frozen importlib._bootstrap_external>:793(get_code)\n",
            "        1    0.000    0.000    0.000    0.000 <frozen importlib._bootstrap_external>:84(_path_is_mode_type)\n",
            "        1    0.000    0.000    0.000    0.000 <frozen importlib._bootstrap_external>:884(__init__)\n",
            "        1    0.000    0.000    0.000    0.000 <frozen importlib._bootstrap_external>:909(get_filename)\n",
            "        1    0.000    0.000    0.002    0.002 <frozen importlib._bootstrap_external>:914(get_data)\n",
            "        1    0.000    0.000    0.000    0.000 <frozen importlib._bootstrap_external>:93(_path_isfile)\n",
            "        1    0.000    0.000    0.000    0.000 <frozen importlib._bootstrap_external>:951(path_stats)\n",
            "        1    0.384    0.384  402.429  402.429 <string>:1(<module>)\n",
            "   388992    1.294    0.000    2.017    0.000 <string>:1(__new__)\n",
            "   192250    0.953    0.000    1.316    0.000 __init__.py:1356(debug)\n",
            "        1    0.000    0.000    0.000    0.000 __init__.py:1600(getEffectiveLevel)\n",
            "   192250    0.364    0.000    0.364    0.000 __init__.py:1614(isEnabledFor)\n",
            "        1    0.000    0.000    0.000    0.000 __init__.py:212(_acquireLock)\n",
            "        1    0.000    0.000    0.000    0.000 __init__.py:221(_releaseLock)\n",
            "        1    0.000    0.000    0.000    0.000 __init__.py:43(normalize_encoding)\n",
            "   143428    0.281    0.000    0.281    0.000 __init__.py:430(__getnewargs__)\n",
            "        1    0.000    0.000    0.000    0.000 __init__.py:71(search_function)\n",
            "        1    0.000    0.000    0.000    0.000 _altair.py:25(find_module)\n",
            "        1    0.000    0.000    0.000    0.000 _bokeh.py:34(find_module)\n",
            "       49    0.000    0.000    0.000    0.000 _collections_abc.py:302(__subclasshook__)\n",
            "        1    0.000    0.000    0.000    0.000 _cv2.py:66(find_module)\n",
            "       98    0.159    0.002    0.557    0.006 _module_utils.py:143(construct_module_tree)\n",
            "       98    0.005    0.000    0.790    0.008 _module_utils.py:28(check_required_attributes)\n",
            "   315/98    0.013    0.000    0.226    0.002 _module_utils.py:99(check)\n",
            "        1    0.071    0.071    0.072    0.072 _modules.py:1(<module>)\n",
            "        1    0.000    0.000    0.000    0.000 _pydrive.py:27(find_module)\n",
            "    25673    0.068    0.000    0.138    0.000 abc.py:137(__instancecheck__)\n",
            "     50/5    0.000    0.000    0.001    0.000 abc.py:141(__subclasscheck__)\n",
            "        1    0.000    0.000    0.000    0.000 base.py:345(_check_little_endian)\n",
            "      707    0.004    0.000    0.009    0.000 charset.py:296(decode_bytes)\n",
            "        1    0.000    0.000    0.000    0.000 codecs.py:94(__new__)\n",
            "      196    0.003    0.000    0.143    0.001 coding.py:14(__init__)\n",
            "      196    0.004    0.000    0.298    0.002 coding.py:91(from_dataset)\n",
            "   260824    0.358    0.000    0.358    0.000 config.py:199(reading_validation_mode)\n",
            "       98    0.012    0.000    2.142    0.022 content.py:140(from_dataset)\n",
            "        1    0.000    0.000    0.004    0.004 content.py:331(from_sequence)\n",
            "        3    0.000    0.000    0.001    0.000 content.py:366(<genexpr>)\n",
            "    12737    0.241    0.000   40.288    0.003 content.py:480(from_sequence)\n",
            "        1    0.000    0.000    0.004    0.004 content.py:612(from_sequence)\n",
            "8934494/12838  105.418    0.000  250.069    0.019 copy.py:132(deepcopy)\n",
            "  7091515    7.714    0.000    7.714    0.000 copy.py:190(_deepcopy_atomic)\n",
            "115080/12941    1.191    0.000  245.689    0.019 copy.py:211(_deepcopy_list)\n",
            "719824/12841   18.809    0.000  247.844    0.019 copy.py:237(_deepcopy_dict)\n",
            "  1596694    5.729    0.000    9.251    0.000 copy.py:253(_keep_alive)\n",
            "761789/12894   16.330    0.000  249.040    0.019 copy.py:269(_reconstruct)\n",
            "2955510/2525226    9.193    0.000   56.091    0.000 copy.py:274(<genexpr>)\n",
            "   761789    2.620    0.000    5.210    0.000 copyreg.py:87(__newobj__)\n",
            "        6    0.000    0.000    0.000    0.000 copyreg.py:96(_slotnames)\n",
            "      588    0.004    0.000    0.013    0.000 datadict.py:244(get_entry)\n",
            "      588    0.002    0.000    0.015    0.000 datadict.py:314(dictionary_VR)\n",
            "  2388079    5.345    0.000    8.014    0.000 datadict.py:459(tag_for_keyword)\n",
            "  2073831    5.475    0.000    5.475    0.000 datadict.py:498(repeater_has_keyword)\n",
            "   142478    1.170    0.000    3.703    0.000 dataelem.py:153(__init__)\n",
            "      588    0.002    0.000    0.014    0.000 dataelem.py:225(validate)\n",
            "   102866    0.661    0.000    0.661    0.000 dataelem.py:43(empty_value_for_VR)\n",
            "   313298    0.363    0.000    0.363    0.000 dataelem.py:430(value)\n",
            "   102909    0.706    0.000    2.730    0.000 dataelem.py:435(value)\n",
            "        1    0.000    0.000    0.000    0.000 dataelem.py:452(VM)\n",
            "   102909    0.713    0.000    1.711    0.000 dataelem.py:497(_convert_value)\n",
            "      588    0.003    0.000    0.017    0.000 dataelem.py:520(_convert)\n",
            "      434    0.002    0.000    0.004    0.000 dataelem.py:626(__getitem__)\n",
            "    52505    1.121    0.000    8.341    0.000 dataelem.py:786(DataElement_from_raw)\n",
            "        7    0.000    0.000    0.000    0.000 dataset.py:1114(get_item)\n",
            "   102865    0.726    0.000    5.252    0.000 dataset.py:1180(set_original_encoding)\n",
            "        8    0.000    0.000    0.000    0.000 dataset.py:1242(elements)\n",
            "    90199    0.247    0.000    0.599    0.000 dataset.py:1270(__ne__)\n",
            "2087355/2074322   14.154    0.000   34.133    0.000 dataset.py:2107(__setattr__)\n",
            "        2    0.000    0.000    0.000    0.000 dataset.py:2164(_set_file_meta)\n",
            "    66029    0.897    0.000    2.350    0.000 dataset.py:2181(__setitem__)\n",
            "        1    0.000    0.000    0.000    0.000 dataset.py:2320(update)\n",
            "   115916    0.487    0.000    0.728    0.000 dataset.py:2571(__getstate__)\n",
            "   115916    0.396    0.000    0.790    0.000 dataset.py:2577(__setstate__)\n",
            "        2    0.000    0.000    0.001    0.001 dataset.py:2619(__init__)\n",
            "        1    0.221    0.221  214.254  214.254 dataset.py:2693(_copy_implementation)\n",
            "        1    0.000    0.000  214.254  214.254 dataset.py:2727(__deepcopy__)\n",
            "        1    0.000    0.000    0.001    0.001 dataset.py:2815(__init__)\n",
            "        1    0.000    0.000    0.000    0.000 dataset.py:2847(validate)\n",
            "        1    0.000    0.000    0.000    0.000 dataset.py:2874(<listcomp>)\n",
            "        3    0.000    0.000    0.000    0.000 dataset.py:2880(__setitem__)\n",
            "   103063    3.063    0.000   23.608    0.000 dataset.py:368(__init__)\n",
            "    13525    0.103    0.000    0.357    0.000 dataset.py:484(__contains__)\n",
            "    90199    0.248    0.000    0.352    0.000 dataset.py:693(__eq__)\n",
            "      6/4    0.000    0.000    0.001    0.000 dataset.py:726(get)\n",
            "        1    0.000    0.000    0.000    0.000 dataset.py:771(items)\n",
            "   300505    2.371    0.000   25.550    0.000 dataset.py:805(__getattr__)\n",
            "        4    0.000    0.000    0.000    0.000 dataset.py:836(_character_set)\n",
            "198126/145618    3.523    0.000   20.450    0.000 dataset.py:853(__getitem__)\n",
            "    52234    0.194    0.000    0.317    0.000 enum.py:289(__call__)\n",
            "    52234    0.123    0.000    0.123    0.000 enum.py:531(__new__)\n",
            "   102864    1.700    0.000    2.788    0.000 filereader.py:287(_is_implicit_vr)\n",
            " 102864/3    4.745    0.000  117.773   39.258 filereader.py:358(read_dataset)\n",
            "437505/66   14.983    0.000  117.771    1.784 filereader.py:41(data_element_generator)\n",
            "  89385/6    2.982    0.000  117.504   19.584 filereader.py:461(read_sequence)\n",
            "192246/12846    7.191    0.000  116.952    0.009 filereader.py:497(read_sequence_item)\n",
            "        1    0.000    0.000    0.001    0.001 filereader.py:560(_read_command_set_elements)\n",
            "        2    0.000    0.000    0.000    0.000 filereader.py:581(_not_group_0000)\n",
            "        1    0.000    0.000    0.003    0.003 filereader.py:593(_read_file_meta_info)\n",
            "        8    0.000    0.000    0.000    0.000 filereader.py:614(_not_group_0002)\n",
            "        1    0.000    0.000    0.000    0.000 filereader.py:671(read_preamble)\n",
            "        1    0.000    0.000  117.776  117.776 filereader.py:738(read_partial)\n",
            "        1    0.000    0.000  117.777  117.777 filereader.py:897(dcmread)\n",
            "        3    0.000    0.000    0.000    0.000 fileutil.py:414(path_from_pathlike)\n",
            "        1    0.000    0.000    0.000    0.000 fileutil.py:436(_unpack_tag)\n",
            "    12737    0.014    0.000    0.014    0.000 fromnumeric.py:1825(_nonzero_dispatcher)\n",
            "    12737    0.091    0.000    0.416    0.000 fromnumeric.py:1829(nonzero)\n",
            "    12737    0.015    0.000    0.015    0.000 fromnumeric.py:3123(_ndim_dispatcher)\n",
            "    12737    0.021    0.000    0.021    0.000 fromnumeric.py:3127(ndim)\n",
            "    12737    0.172    0.000    0.421    0.000 fromnumeric.py:38(_wrapit)\n",
            "    25474    0.170    0.000    0.861    0.000 fromnumeric.py:51(_wrapfunc)\n",
            "    12737    0.018    0.000    0.018    0.000 fromnumeric.py:597(_transpose_dispatcher)\n",
            "    12737    0.048    0.000    0.584    0.000 fromnumeric.py:601(transpose)\n",
            "        2    0.000    0.000    0.000    0.000 genericpath.py:16(exists)\n",
            "   102861    1.481    0.000    4.979    0.000 hexutil.py:43(bytes2hex)\n",
            "   925749    1.435    0.000    1.435    0.000 hexutil.py:46(<genexpr>)\n",
            "        1    0.000    0.000    0.000    0.000 latin_1.py:41(getregentry)\n",
            "   102865    0.167    0.000    0.167    0.000 misc.py:15(size_in_bytes)\n",
            "    77373    0.124    0.000    0.124    0.000 multival.py:107(__iter__)\n",
            "   102938    0.338    0.000    0.451    0.000 multival.py:110(__len__)\n",
            "   102321    2.002    0.000    5.008    0.000 multival.py:31(__init__)\n",
            "    38219    0.219    0.000    1.031    0.000 multival.py:55(DS_IS_constructor)\n",
            "    38845    0.067    0.000    0.067    0.000 multival.py:99(__getitem__)\n",
            "    12737    0.022    0.000    0.022    0.000 numeric.py:567(_argwhere_dispatcher)\n",
            "    12737    0.142    0.000    1.530    0.000 numeric.py:571(argwhere)\n",
            "        1    0.000    0.000  402.429  402.429 profile:0(highdicom.seg.segread(\"ABD_LYMPH_008_SEG.dcm\"))\n",
            "        0    0.000             0.000          profile:0(profiler)\n",
            "    15317    0.083    0.000    0.313    0.000 re.py:172(match)\n",
            "    15317    0.122    0.000    0.168    0.000 re.py:273(_compile)\n",
            "    90199    0.759    0.000    3.397    0.000 sequence.py:111(parent)\n",
            "   103155    0.238    0.000    0.345    0.000 sequence.py:15(validate_dataset)\n",
            "   102341    0.378    0.000    0.560    0.000 sequence.py:157(__getstate__)\n",
            "   102341    0.382    0.000    0.546    0.000 sequence.py:163(__setstate__)\n",
            "    89582    0.765    0.000    4.309    0.000 sequence.py:34(__init__)\n",
            "        1    0.255    0.255  284.165  284.165 sop.py:1205(from_dataset)\n",
            "        1    0.001    0.001    2.142    2.142 sop.py:1261(<listcomp>)\n",
            "        1    0.012    0.012    0.440    0.440 sop.py:1303(_build_ref_instance_lut)\n",
            "        1    1.779    1.779   20.999   20.999 sop.py:1336(_build_luts)\n",
            "        1    0.000    0.000    0.001    0.001 sop.py:1360(<listcomp>)\n",
            "        1    0.000    0.000    0.000    0.000 sop.py:1364(<dictcomp>)\n",
            "        1    0.000    0.000    0.000    0.000 sop.py:1369(<dictcomp>)\n",
            "    12738    0.027    0.000    0.041    0.000 sop.py:1455(<genexpr>)\n",
            "        2    0.000    0.000    0.000    0.000 sop.py:1462(<genexpr>)\n",
            "        1    0.000    0.000    0.000    0.000 sop.py:1484(<dictcomp>)\n",
            "        1    0.000    0.000    0.000    0.000 sop.py:1489(<listcomp>)\n",
            "    12737    0.676    0.000    2.404    0.000 sop.py:1801(_get_src_uid_index)\n",
            "        1    0.103    0.103  402.045  402.045 sop.py:2847(segread)\n",
            "        6    0.000    0.000    0.000    0.000 tag.py:157(__lt__)\n",
            "  1600789    5.255    0.000   13.657    0.000 tag.py:176(__eq__)\n",
            "   221399    0.584    0.000    3.821    0.000 tag.py:187(__ne__)\n",
            "    66049    0.088    0.000    0.088    0.000 tag.py:204(group)\n",
            "    66029    0.183    0.000    0.271    0.000 tag.py:216(is_private)\n",
            "   334954    1.776    0.000    1.776    0.000 tag.py:230(TupleTag)\n",
            "   573598    5.780    0.000    9.591    0.000 tag.py:42(Tag)\n",
            "       14    0.000    0.000    0.000    0.000 typing.py:113(_type_check)\n",
            "        4    0.000    0.000    0.000    0.000 typing.py:180(_subs_tvars)\n",
            "        3    0.000    0.000    0.000    0.000 typing.py:212(_remove_dups_flatten)\n",
            "103176/103174    0.496    0.000    0.953    0.000 typing.py:248(inner)\n",
            "       11    0.000    0.000    0.000    0.000 typing.py:317(__eq__)\n",
            "   102975    0.304    0.000    0.454    0.000 typing.py:322(__hash__)\n",
            "      5/3    0.000    0.000    0.001    0.000 typing.py:340(__getitem__)\n",
            "        9    0.000    0.000    0.000    0.000 typing.py:351(<genexpr>)\n",
            "       52    0.000    0.000    0.000    0.000 typing.py:595(_is_dunder)\n",
            "        7    0.000    0.000    0.001    0.000 typing.py:608(__init__)\n",
            "       19    0.000    0.000    0.000    0.000 typing.py:618(<genexpr>)\n",
            "        4    0.000    0.000    0.001    0.000 typing.py:626(__getitem__)\n",
            "       10    0.000    0.000    0.000    0.000 typing.py:634(<genexpr>)\n",
            "        4    0.000    0.000    0.000    0.000 typing.py:638(copy_with)\n",
            "       14    0.000    0.000    0.000    0.000 typing.py:660(__eq__)\n",
            "  318/312    0.001    0.000    0.002    0.000 typing.py:669(__hash__)\n",
            "       52    0.000    0.000    0.000    0.000 typing.py:709(__setattr__)\n",
            "      101    0.001    0.000    0.003    0.000 typing.py:749(__getitem__)\n",
            "   217401    1.251    0.000    1.615    0.000 typing.py:814(__new__)\n",
            "   246390    0.294    0.000    0.294    0.000 typing.py:898(cast)\n",
            "       12    0.000    0.000    0.000    0.000 typing_extensions.py:126(_should_collect_from_parameters)\n",
            "        7    0.000    0.000    0.000    0.000 typing_extensions.py:130(_collect_type_vars)\n",
            "        6    0.000    0.000    0.000    0.000 typing_extensions.py:147(<listcomp>)\n",
            "        4    0.000    0.000    0.000    0.000 typing_extensions.py:96(_check_generic)\n",
            "        1    0.000    0.000    0.000    0.000 uid.py:112(is_little_endian)\n",
            "        1    0.000    0.000    0.000    0.000 uid.py:128(is_transfer_syntax)\n",
            "        1    0.000    0.000    0.000    0.000 uid.py:186(name)\n",
            "        1    0.000    0.000    0.000    0.000 uid.py:195(type)\n",
            "     1929    0.006    0.000    0.128    0.000 uid.py:21(__new__)\n",
            "        1    0.000    0.000    0.000    0.000 uid.py:221(is_private)\n",
            "    15317    0.169    0.000    1.230    0.000 uid.py:70(__new__)\n",
            "    15317    0.114    0.000    0.448    0.000 valuerep.py:105(validate_regex)\n",
            "    26223    0.316    0.000    3.240    0.000 valuerep.py:1180(MultiString)\n",
            "    15317    0.162    0.000    0.785    0.000 valuerep.py:134(validate_length_and_regex)\n",
            "   102321    0.268    0.000    0.268    0.000 valuerep.py:1917(__getattr__)\n",
            "    16612    0.143    0.000    0.991    0.000 valuerep.py:255(validate_value)\n",
            "    16612    0.082    0.000    0.130    0.000 valuerep.py:80(validate_vr_length)\n",
            "    76440    0.396    0.000    0.676    0.000 valuerep.py:825(__new__)\n",
            "    38220    0.265    0.000    0.419    0.000 valuerep.py:839(__init__)\n",
            "    12740    0.140    0.000    2.215    0.000 values.py:174(convert_DS_string)\n",
            "    25573    0.328    0.000    0.578    0.000 values.py:351(convert_numbers)\n",
            "        2    0.000    0.000    0.000    0.000 values.py:39(convert_tag)\n",
            "       98    0.001    0.000    0.006    0.000 values.py:477(convert_string)\n",
            "      707    0.006    0.000    0.045    0.000 values.py:504(convert_text)\n",
            "      707    0.003    0.000    0.036    0.000 values.py:527(<listcomp>)\n",
            "      707    0.008    0.000    0.033    0.000 values.py:536(convert_single_string)\n",
            "    13385    0.119    0.000    1.564    0.000 values.py:644(convert_UI)\n",
            "    52505    0.847    0.000    5.582    0.000 values.py:708(convert_value)\n",
            "        2    0.000    0.000    0.000    0.000 values.py:96(convert_ATvalue)\n",
            "\n",
            "\n"
          ]
        }
      ]
    },
    {
      "cell_type": "code",
      "source": [],
      "metadata": {
        "id": "7uzaz2E3rP6M"
      },
      "execution_count": null,
      "outputs": []
    }
  ]
}